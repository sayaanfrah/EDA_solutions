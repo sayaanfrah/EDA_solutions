{
 "cells": [
  {
   "cell_type": "markdown",
   "id": "e86be5c8",
   "metadata": {},
   "source": [
    "# EDA (Exploratory Data Analysis) on Head_Brain"
   ]
  },
  {
   "cell_type": "markdown",
   "id": "62b266ee",
   "metadata": {},
   "source": [
    "We are going to perform regression analysis on headbrain datasets . The input data is in .csv format with 237 observations. it has total four columns (Description is given below).\n"
   ]
  },
  {
   "cell_type": "markdown",
   "id": "1eb3bfd1",
   "metadata": {},
   "source": [
    "1.  Gender : 1 for male and 2 for female\n",
    "2. Age Range: 1 for ages 20-46  and 2 for over 46\n",
    "3. HeadSize: headsize in cubic cm\n",
    "4. Brain Weight: Brain Weight in grams \n"
   ]
  },
  {
   "cell_type": "markdown",
   "id": "bfec27e1",
   "metadata": {},
   "source": [
    "Our target vaeriable is \"Brain Weight\" , which has continuous data so its a regression problem\n"
   ]
  },
  {
   "cell_type": "markdown",
   "id": "379433d3",
   "metadata": {},
   "source": [
    "# Importing the required libraries "
   ]
  },
  {
   "cell_type": "code",
   "execution_count": 1,
   "id": "84c976bf",
   "metadata": {},
   "outputs": [],
   "source": [
    "import warnings\n",
    "warnings.filterwarnings(\"ignore\")\n",
    "warnings.simplefilter(\"ignore\")"
   ]
  },
  {
   "cell_type": "markdown",
   "id": "85231c4c",
   "metadata": {},
   "source": [
    "# Loading the Dataset"
   ]
  },
  {
   "cell_type": "code",
   "execution_count": 2,
   "id": "cc3d403c",
   "metadata": {},
   "outputs": [
    {
     "data": {
      "text/html": [
       "<div>\n",
       "<style scoped>\n",
       "    .dataframe tbody tr th:only-of-type {\n",
       "        vertical-align: middle;\n",
       "    }\n",
       "\n",
       "    .dataframe tbody tr th {\n",
       "        vertical-align: top;\n",
       "    }\n",
       "\n",
       "    .dataframe thead th {\n",
       "        text-align: right;\n",
       "    }\n",
       "</style>\n",
       "<table border=\"1\" class=\"dataframe\">\n",
       "  <thead>\n",
       "    <tr style=\"text-align: right;\">\n",
       "      <th></th>\n",
       "      <th>Gender</th>\n",
       "      <th>AgeRange</th>\n",
       "      <th>HeadSize</th>\n",
       "      <th>BrainWeight</th>\n",
       "    </tr>\n",
       "  </thead>\n",
       "  <tbody>\n",
       "    <tr>\n",
       "      <th>0</th>\n",
       "      <td>1</td>\n",
       "      <td>1</td>\n",
       "      <td>4512</td>\n",
       "      <td>1530</td>\n",
       "    </tr>\n",
       "    <tr>\n",
       "      <th>1</th>\n",
       "      <td>1</td>\n",
       "      <td>1</td>\n",
       "      <td>3738</td>\n",
       "      <td>1297</td>\n",
       "    </tr>\n",
       "    <tr>\n",
       "      <th>2</th>\n",
       "      <td>1</td>\n",
       "      <td>1</td>\n",
       "      <td>4261</td>\n",
       "      <td>1335</td>\n",
       "    </tr>\n",
       "    <tr>\n",
       "      <th>3</th>\n",
       "      <td>1</td>\n",
       "      <td>1</td>\n",
       "      <td>3777</td>\n",
       "      <td>1282</td>\n",
       "    </tr>\n",
       "    <tr>\n",
       "      <th>4</th>\n",
       "      <td>1</td>\n",
       "      <td>1</td>\n",
       "      <td>4177</td>\n",
       "      <td>1590</td>\n",
       "    </tr>\n",
       "  </tbody>\n",
       "</table>\n",
       "</div>"
      ],
      "text/plain": [
       "   Gender  AgeRange  HeadSize  BrainWeight\n",
       "0       1         1      4512         1530\n",
       "1       1         1      3738         1297\n",
       "2       1         1      4261         1335\n",
       "3       1         1      3777         1282\n",
       "4       1         1      4177         1590"
      ]
     },
     "execution_count": 2,
     "metadata": {},
     "output_type": "execute_result"
    }
   ],
   "source": [
    "import pandas as pd\n",
    "df=pd.read_csv(\"headbrain.csv\")\n",
    "df.head(5)# printing the first five rows of dataset"
   ]
  },
  {
   "cell_type": "code",
   "execution_count": 5,
   "id": "f0a76b82",
   "metadata": {},
   "outputs": [
    {
     "data": {
      "text/plain": [
       "(237, 4)"
      ]
     },
     "execution_count": 5,
     "metadata": {},
     "output_type": "execute_result"
    }
   ],
   "source": [
    "df.shape #chekcing the dimension of the data"
   ]
  },
  {
   "cell_type": "markdown",
   "id": "f19177ac",
   "metadata": {},
   "source": [
    "# Data Prepration"
   ]
  },
  {
   "cell_type": "code",
   "execution_count": 10,
   "id": "436b8423",
   "metadata": {},
   "outputs": [],
   "source": [
    "#renaming the columns to bit easier one\n",
    "df=df.rename(columns={\"Gender\":\"Gender\",\"HeadSize\":\"Size\",\"BrainWeight\":\"Weight\",\"AgeRange\":\"Age\"})"
   ]
  },
  {
   "cell_type": "code",
   "execution_count": 14,
   "id": "8f7ebd92",
   "metadata": {},
   "outputs": [
    {
     "data": {
      "text/html": [
       "<div>\n",
       "<style scoped>\n",
       "    .dataframe tbody tr th:only-of-type {\n",
       "        vertical-align: middle;\n",
       "    }\n",
       "\n",
       "    .dataframe tbody tr th {\n",
       "        vertical-align: top;\n",
       "    }\n",
       "\n",
       "    .dataframe thead th {\n",
       "        text-align: right;\n",
       "    }\n",
       "</style>\n",
       "<table border=\"1\" class=\"dataframe\">\n",
       "  <thead>\n",
       "    <tr style=\"text-align: right;\">\n",
       "      <th></th>\n",
       "      <th>Gender</th>\n",
       "      <th>Age</th>\n",
       "      <th>Size</th>\n",
       "      <th>Weight</th>\n",
       "    </tr>\n",
       "  </thead>\n",
       "  <tbody>\n",
       "    <tr>\n",
       "      <th>count</th>\n",
       "      <td>237.000000</td>\n",
       "      <td>237.000000</td>\n",
       "      <td>237.000000</td>\n",
       "      <td>237.000000</td>\n",
       "    </tr>\n",
       "    <tr>\n",
       "      <th>mean</th>\n",
       "      <td>1.434599</td>\n",
       "      <td>1.535865</td>\n",
       "      <td>3633.991561</td>\n",
       "      <td>1282.873418</td>\n",
       "    </tr>\n",
       "    <tr>\n",
       "      <th>std</th>\n",
       "      <td>0.496753</td>\n",
       "      <td>0.499768</td>\n",
       "      <td>365.261422</td>\n",
       "      <td>120.340446</td>\n",
       "    </tr>\n",
       "    <tr>\n",
       "      <th>min</th>\n",
       "      <td>1.000000</td>\n",
       "      <td>1.000000</td>\n",
       "      <td>2720.000000</td>\n",
       "      <td>955.000000</td>\n",
       "    </tr>\n",
       "    <tr>\n",
       "      <th>25%</th>\n",
       "      <td>1.000000</td>\n",
       "      <td>1.000000</td>\n",
       "      <td>3389.000000</td>\n",
       "      <td>1207.000000</td>\n",
       "    </tr>\n",
       "    <tr>\n",
       "      <th>50%</th>\n",
       "      <td>1.000000</td>\n",
       "      <td>2.000000</td>\n",
       "      <td>3614.000000</td>\n",
       "      <td>1280.000000</td>\n",
       "    </tr>\n",
       "    <tr>\n",
       "      <th>75%</th>\n",
       "      <td>2.000000</td>\n",
       "      <td>2.000000</td>\n",
       "      <td>3876.000000</td>\n",
       "      <td>1350.000000</td>\n",
       "    </tr>\n",
       "    <tr>\n",
       "      <th>max</th>\n",
       "      <td>2.000000</td>\n",
       "      <td>2.000000</td>\n",
       "      <td>4747.000000</td>\n",
       "      <td>1635.000000</td>\n",
       "    </tr>\n",
       "  </tbody>\n",
       "</table>\n",
       "</div>"
      ],
      "text/plain": [
       "           Gender         Age         Size       Weight\n",
       "count  237.000000  237.000000   237.000000   237.000000\n",
       "mean     1.434599    1.535865  3633.991561  1282.873418\n",
       "std      0.496753    0.499768   365.261422   120.340446\n",
       "min      1.000000    1.000000  2720.000000   955.000000\n",
       "25%      1.000000    1.000000  3389.000000  1207.000000\n",
       "50%      1.000000    2.000000  3614.000000  1280.000000\n",
       "75%      2.000000    2.000000  3876.000000  1350.000000\n",
       "max      2.000000    2.000000  4747.000000  1635.000000"
      ]
     },
     "execution_count": 14,
     "metadata": {},
     "output_type": "execute_result"
    }
   ],
   "source": [
    "df.describe()  #statistical summary"
   ]
  },
  {
   "cell_type": "code",
   "execution_count": 15,
   "id": "88c141f3",
   "metadata": {},
   "outputs": [
    {
     "data": {
      "text/plain": [
       "Gender    0\n",
       "Age       0\n",
       "Size      0\n",
       "Weight    0\n",
       "dtype: int64"
      ]
     },
     "execution_count": 15,
     "metadata": {},
     "output_type": "execute_result"
    }
   ],
   "source": [
    "df.isnull().sum()"
   ]
  },
  {
   "cell_type": "markdown",
   "id": "73b0bfbb",
   "metadata": {},
   "source": [
    "1. Here we can see there are no missing values \n",
    "2. No much difference observed between the mean and median so outliers are not there , still we will validate this further"
   ]
  },
  {
   "cell_type": "code",
   "execution_count": 16,
   "id": "99279ba7",
   "metadata": {},
   "outputs": [
    {
     "name": "stdout",
     "output_type": "stream",
     "text": [
      "<class 'pandas.core.frame.DataFrame'>\n",
      "RangeIndex: 237 entries, 0 to 236\n",
      "Data columns (total 4 columns):\n",
      " #   Column  Non-Null Count  Dtype\n",
      "---  ------  --------------  -----\n",
      " 0   Gender  237 non-null    int64\n",
      " 1   Age     237 non-null    int64\n",
      " 2   Size    237 non-null    int64\n",
      " 3   Weight  237 non-null    int64\n",
      "dtypes: int64(4)\n",
      "memory usage: 7.5 KB\n"
     ]
    }
   ],
   "source": [
    "df.info() #checking the data types of all the columns "
   ]
  },
  {
   "cell_type": "markdown",
   "id": "44ca9074",
   "metadata": {},
   "source": [
    "There are no categorical columns exists in the dataset so encoding is not needed."
   ]
  },
  {
   "cell_type": "markdown",
   "id": "416e855b",
   "metadata": {},
   "source": [
    "# EDA"
   ]
  },
  {
   "cell_type": "markdown",
   "id": "8c86f83c",
   "metadata": {},
   "source": [
    "Univariate Analysis"
   ]
  },
  {
   "cell_type": "code",
   "execution_count": 17,
   "id": "065d95f8",
   "metadata": {},
   "outputs": [],
   "source": [
    "import seaborn as sns\n",
    "import matplotlib.pyplot as plt\n",
    "import numpy as np"
   ]
  },
  {
   "cell_type": "code",
   "execution_count": 18,
   "id": "c5badd59",
   "metadata": {},
   "outputs": [
    {
     "data": {
      "image/png": "[encoded data removed]",
      "text/plain": [
       "<Figure size 432x288 with 1 Axes>"
      ]
     },
     "metadata": {
      "needs_background": "light"
     },
     "output_type": "display_data"
    }
   ],
   "source": [
    "sns.distplot(df['Size'])\n",
    "plt.title(\"Brain Size\")\n",
    "plt.show()"
   ]
  },
  {
   "cell_type": "markdown",
   "id": "04cc7c04",
   "metadata": {},
   "source": [
    "It is showing that data is normally distributed in size column"
   ]
  },
  {
   "cell_type": "code",
   "execution_count": 19,
   "id": "6381e38f",
   "metadata": {},
   "outputs": [
    {
     "data": {
      "image/png": "[encoded data removed]",
      "text/plain": [
       "<Figure size 432x288 with 1 Axes>"
      ]
     },
     "metadata": {
      "needs_background": "light"
     },
     "output_type": "display_data"
    }
   ],
   "source": [
    "sns.distplot(df['Weight'])\n",
    "plt.title(\"Brain Weight\")\n",
    "plt.show()"
   ]
  },
  {
   "cell_type": "markdown",
   "id": "770e5dad",
   "metadata": {},
   "source": [
    "it is showing that data is normally distributed in the weight column\n"
   ]
  },
  {
   "cell_type": "code",
   "execution_count": 20,
   "id": "7f6080fb",
   "metadata": {},
   "outputs": [
    {
     "data": {
      "image/png": "[encoded data removed]",
      "text/plain": [
       "<Figure size 432x288 with 1 Axes>"
      ]
     },
     "metadata": {
      "needs_background": "light"
     },
     "output_type": "display_data"
    }
   ],
   "source": [
    "#plotting the gender column\n",
    "sns.countplot(df['Gender'])\n",
    "plt.title(\"Gender\")\n",
    "plt.show()"
   ]
  },
  {
   "cell_type": "markdown",
   "id": "8fa26cbd",
   "metadata": {},
   "source": [
    "Data Distribution of gender Column is showing nomal between both the categories"
   ]
  },
  {
   "cell_type": "code",
   "execution_count": 22,
   "id": "1fd42c80",
   "metadata": {},
   "outputs": [
    {
     "data": {
      "image/png": "[encoded data removed]",
      "text/plain": [
       "<Figure size 432x288 with 1 Axes>"
      ]
     },
     "metadata": {
      "needs_background": "light"
     },
     "output_type": "display_data"
    }
   ],
   "source": [
    "#plotting the Age Column\n",
    "sns.countplot(df['Age'])\n",
    "plt.title(\"Age Range\")\n",
    "plt.show()"
   ]
  },
  {
   "cell_type": "markdown",
   "id": "18d6b6b2",
   "metadata": {},
   "source": [
    "Data Distribution of AgeRange Column is showing nomal between both the categories"
   ]
  },
  {
   "cell_type": "markdown",
   "id": "0d0d7938",
   "metadata": {},
   "source": [
    "# Bivariate Analysis"
   ]
  },
  {
   "cell_type": "code",
   "execution_count": 23,
   "id": "16552ee7",
   "metadata": {},
   "outputs": [
    {
     "data": {
      "image/png": "[encoded data removed]",
      "text/plain": [
       "<Figure size 432x288 with 1 Axes>"
      ]
     },
     "metadata": {
      "needs_background": "light"
     },
     "output_type": "display_data"
    }
   ],
   "source": [
    "#plotting the scatterplot to check the relation between the brain size and brain weight\n",
    "plt.scatter(df['Size'],df['Weight'])\n",
    "plt.title(\"Scatterplot\")\n",
    "plt.xlabel(\"size\")\n",
    "plt.ylabel(\"Weight\")\n",
    "plt.show()"
   ]
  },
  {
   "cell_type": "markdown",
   "id": "9d8ecc97",
   "metadata": {},
   "source": [
    " We can clearly see a linear relationship(positive relation) between size and weight in the above scatter plot"
   ]
  },
  {
   "cell_type": "markdown",
   "id": "b6606d41",
   "metadata": {},
   "source": [
    "# Multivariate Analysis"
   ]
  },
  {
   "cell_type": "code",
   "execution_count": 26,
   "id": "62738832",
   "metadata": {},
   "outputs": [
    {
     "data": {
      "image/png": "[encoded data removed]",
      "text/plain": [
       "<Figure size 432x288 with 2 Axes>"
      ]
     },
     "metadata": {
      "needs_background": "light"
     },
     "output_type": "display_data"
    }
   ],
   "source": [
    "#cheking the corelation using heatmap\n",
    "corr=df.corr() #funtion provides the corelation value of each column\n",
    "sns.heatmap(corr,annot=True) #using heatmap we are plotting corelation values obtained by df.corr function\n",
    "plt.show()"
   ]
  },
  {
   "cell_type": "markdown",
   "id": "a6164f5c",
   "metadata": {},
   "source": [
    "1. Very Low Corelation of Age Range with target variable so we can drop this column\n",
    "2. Very high and psitive corelation of size  witht the target variable \n",
    "3. High negative corelation of the \"Gender \" column of tragte variable but we will keep as relation is strong"
   ]
  },
  {
   "cell_type": "code",
   "execution_count": 28,
   "id": "41534af3",
   "metadata": {},
   "outputs": [],
   "source": [
    "df.drop(\"Age\",axis=1,inplace=True)"
   ]
  },
  {
   "cell_type": "markdown",
   "id": "f84cd865",
   "metadata": {},
   "source": [
    "# Handling the Outliers "
   ]
  },
  {
   "cell_type": "code",
   "execution_count": 32,
   "id": "c8e844f6",
   "metadata": {},
   "outputs": [
    {
     "data": {
      "image/png": "[encoded data removed]",
      "text/plain": [
       "<Figure size 432x288 with 1 Axes>"
      ]
     },
     "metadata": {
      "needs_background": "light"
     },
     "output_type": "display_data"
    }
   ],
   "source": [
    "#chekcing outliers using the boxplot\n",
    "sns.boxplot(data=df[[\"Size\",\"Weight\"]],orient=\"h\",palette=\"Set2\")\n",
    "plt.title(\"Outliers detecting using the boxplot we have\")\n",
    "plt.show()"
   ]
  },
  {
   "cell_type": "markdown",
   "id": "6b6125a4",
   "metadata": {},
   "source": [
    "There are outliers which can be removed using different methods, in this project we will use Inter Quartile Range to remove the Outliers "
   ]
  },
  {
   "cell_type": "code",
   "execution_count": 33,
   "id": "c6ce9ef6",
   "metadata": {},
   "outputs": [],
   "source": [
    "import scipy\n",
    "from scipy import stats \n",
    "from scipy.stats import zscore\n",
    "import numpy as np\n",
    "z=np.abs(zscore(df))\n",
    "df_new=df[(z<3).all(axis=1)]\n"
   ]
  },
  {
   "cell_type": "code",
   "execution_count": 38,
   "id": "48b47954",
   "metadata": {},
   "outputs": [
    {
     "name": "stdout",
     "output_type": "stream",
     "text": [
      "Original Shpae= (237, 3) \n",
      " New New Shape= (236, 3)\n"
     ]
    }
   ],
   "source": [
    "print(\"Original Shpae=\",df.shape,\"\\n New\",\"New Shape=\",df_new.shape)"
   ]
  },
  {
   "cell_type": "markdown",
   "id": "b9267a45",
   "metadata": {},
   "source": [
    "# Skewness is also an important factor which impacts the distribution of the data .Always try to make dataset less skewed"
   ]
  },
  {
   "cell_type": "markdown",
   "id": "9414636d",
   "metadata": {},
   "source": [
    "Chekcing the skewness we have"
   ]
  },
  {
   "cell_type": "code",
   "execution_count": 41,
   "id": "d15fc132",
   "metadata": {},
   "outputs": [
    {
     "data": {
      "text/plain": [
       "Gender    0.257959\n",
       "Size      0.164767\n",
       "Weight    0.205274\n",
       "dtype: float64"
      ]
     },
     "execution_count": 41,
     "metadata": {},
     "output_type": "execute_result"
    }
   ],
   "source": [
    "df_new.skew()"
   ]
  },
  {
   "cell_type": "markdown",
   "id": "2283b4dc",
   "metadata": {},
   "source": [
    "Skewness is in acceptable range (+/- 0.5) so our data is not skewed"
   ]
  },
  {
   "cell_type": "markdown",
   "id": "ac6becb3",
   "metadata": {},
   "source": [
    "# Preparing Dataset for model training"
   ]
  },
  {
   "cell_type": "code",
   "execution_count": 44,
   "id": "62e14bd4",
   "metadata": {},
   "outputs": [
    {
     "data": {
      "text/html": [
       "<div>\n",
       "<style scoped>\n",
       "    .dataframe tbody tr th:only-of-type {\n",
       "        vertical-align: middle;\n",
       "    }\n",
       "\n",
       "    .dataframe tbody tr th {\n",
       "        vertical-align: top;\n",
       "    }\n",
       "\n",
       "    .dataframe thead th {\n",
       "        text-align: right;\n",
       "    }\n",
       "</style>\n",
       "<table border=\"1\" class=\"dataframe\">\n",
       "  <thead>\n",
       "    <tr style=\"text-align: right;\">\n",
       "      <th></th>\n",
       "      <th>Gender</th>\n",
       "      <th>Size</th>\n",
       "    </tr>\n",
       "  </thead>\n",
       "  <tbody>\n",
       "    <tr>\n",
       "      <th>0</th>\n",
       "      <td>1</td>\n",
       "      <td>4512</td>\n",
       "    </tr>\n",
       "    <tr>\n",
       "      <th>1</th>\n",
       "      <td>1</td>\n",
       "      <td>3738</td>\n",
       "    </tr>\n",
       "    <tr>\n",
       "      <th>2</th>\n",
       "      <td>1</td>\n",
       "      <td>4261</td>\n",
       "    </tr>\n",
       "    <tr>\n",
       "      <th>3</th>\n",
       "      <td>1</td>\n",
       "      <td>3777</td>\n",
       "    </tr>\n",
       "    <tr>\n",
       "      <th>4</th>\n",
       "      <td>1</td>\n",
       "      <td>4177</td>\n",
       "    </tr>\n",
       "    <tr>\n",
       "      <th>...</th>\n",
       "      <td>...</td>\n",
       "      <td>...</td>\n",
       "    </tr>\n",
       "    <tr>\n",
       "      <th>232</th>\n",
       "      <td>2</td>\n",
       "      <td>3214</td>\n",
       "    </tr>\n",
       "    <tr>\n",
       "      <th>233</th>\n",
       "      <td>2</td>\n",
       "      <td>3394</td>\n",
       "    </tr>\n",
       "    <tr>\n",
       "      <th>234</th>\n",
       "      <td>2</td>\n",
       "      <td>3233</td>\n",
       "    </tr>\n",
       "    <tr>\n",
       "      <th>235</th>\n",
       "      <td>2</td>\n",
       "      <td>3352</td>\n",
       "    </tr>\n",
       "    <tr>\n",
       "      <th>236</th>\n",
       "      <td>2</td>\n",
       "      <td>3391</td>\n",
       "    </tr>\n",
       "  </tbody>\n",
       "</table>\n",
       "<p>236 rows × 2 columns</p>\n",
       "</div>"
      ],
      "text/plain": [
       "     Gender  Size\n",
       "0         1  4512\n",
       "1         1  3738\n",
       "2         1  4261\n",
       "3         1  3777\n",
       "4         1  4177\n",
       "..      ...   ...\n",
       "232       2  3214\n",
       "233       2  3394\n",
       "234       2  3233\n",
       "235       2  3352\n",
       "236       2  3391\n",
       "\n",
       "[236 rows x 2 columns]"
      ]
     },
     "execution_count": 44,
     "metadata": {},
     "output_type": "execute_result"
    }
   ],
   "source": [
    "#seperating independent and target variable \n",
    "x=df_new.iloc[:,:-1]\n",
    "x"
   ]
  },
  {
   "cell_type": "code",
   "execution_count": 48,
   "id": "07961f25",
   "metadata": {},
   "outputs": [
    {
     "data": {
      "text/plain": [
       "array([[1530],\n",
       "       [1297],\n",
       "       [1335],\n",
       "       [1282],\n",
       "       [1590],\n",
       "       [1300],\n",
       "       [1400],\n",
       "       [1255],\n",
       "       [1355],\n",
       "       [1375],\n",
       "       [1340],\n",
       "       [1380],\n",
       "       [1355],\n",
       "       [1522],\n",
       "       [1208],\n",
       "       [1405],\n",
       "       [1358],\n",
       "       [1292],\n",
       "       [1340],\n",
       "       [1400],\n",
       "       [1357],\n",
       "       [1287],\n",
       "       [1275],\n",
       "       [1270],\n",
       "       [1505],\n",
       "       [1490],\n",
       "       [1485],\n",
       "       [1310],\n",
       "       [1420],\n",
       "       [1318],\n",
       "       [1432],\n",
       "       [1364],\n",
       "       [1405],\n",
       "       [1432],\n",
       "       [1207],\n",
       "       [1375],\n",
       "       [1350],\n",
       "       [1236],\n",
       "       [1250],\n",
       "       [1350],\n",
       "       [1320],\n",
       "       [1525],\n",
       "       [1570],\n",
       "       [1340],\n",
       "       [1422],\n",
       "       [1506],\n",
       "       [1215],\n",
       "       [1311],\n",
       "       [1300],\n",
       "       [1224],\n",
       "       [1350],\n",
       "       [1335],\n",
       "       [1390],\n",
       "       [1400],\n",
       "       [1225],\n",
       "       [1310],\n",
       "       [1560],\n",
       "       [1330],\n",
       "       [1222],\n",
       "       [1415],\n",
       "       [1175],\n",
       "       [1330],\n",
       "       [1485],\n",
       "       [1470],\n",
       "       [1135],\n",
       "       [1310],\n",
       "       [1154],\n",
       "       [1510],\n",
       "       [1415],\n",
       "       [1468],\n",
       "       [1390],\n",
       "       [1380],\n",
       "       [1432],\n",
       "       [1240],\n",
       "       [1195],\n",
       "       [1225],\n",
       "       [1188],\n",
       "       [1252],\n",
       "       [1315],\n",
       "       [1245],\n",
       "       [1430],\n",
       "       [1279],\n",
       "       [1245],\n",
       "       [1309],\n",
       "       [1412],\n",
       "       [1120],\n",
       "       [1220],\n",
       "       [1280],\n",
       "       [1440],\n",
       "       [1370],\n",
       "       [1192],\n",
       "       [1230],\n",
       "       [1346],\n",
       "       [1290],\n",
       "       [1165],\n",
       "       [1240],\n",
       "       [1132],\n",
       "       [1242],\n",
       "       [1270],\n",
       "       [1218],\n",
       "       [1430],\n",
       "       [1588],\n",
       "       [1320],\n",
       "       [1290],\n",
       "       [1260],\n",
       "       [1425],\n",
       "       [1226],\n",
       "       [1360],\n",
       "       [1620],\n",
       "       [1310],\n",
       "       [1250],\n",
       "       [1295],\n",
       "       [1290],\n",
       "       [1290],\n",
       "       [1275],\n",
       "       [1250],\n",
       "       [1270],\n",
       "       [1362],\n",
       "       [1300],\n",
       "       [1173],\n",
       "       [1256],\n",
       "       [1440],\n",
       "       [1180],\n",
       "       [1306],\n",
       "       [1350],\n",
       "       [1125],\n",
       "       [1165],\n",
       "       [1312],\n",
       "       [1300],\n",
       "       [1270],\n",
       "       [1335],\n",
       "       [1450],\n",
       "       [1310],\n",
       "       [1027],\n",
       "       [1235],\n",
       "       [1260],\n",
       "       [1165],\n",
       "       [1080],\n",
       "       [1127],\n",
       "       [1270],\n",
       "       [1252],\n",
       "       [1200],\n",
       "       [1290],\n",
       "       [1334],\n",
       "       [1380],\n",
       "       [1140],\n",
       "       [1243],\n",
       "       [1340],\n",
       "       [1168],\n",
       "       [1322],\n",
       "       [1249],\n",
       "       [1321],\n",
       "       [1192],\n",
       "       [1373],\n",
       "       [1170],\n",
       "       [1265],\n",
       "       [1235],\n",
       "       [1302],\n",
       "       [1241],\n",
       "       [1078],\n",
       "       [1520],\n",
       "       [1460],\n",
       "       [1075],\n",
       "       [1280],\n",
       "       [1180],\n",
       "       [1250],\n",
       "       [1190],\n",
       "       [1374],\n",
       "       [1306],\n",
       "       [1202],\n",
       "       [1240],\n",
       "       [1316],\n",
       "       [1280],\n",
       "       [1350],\n",
       "       [1180],\n",
       "       [1210],\n",
       "       [1127],\n",
       "       [1324],\n",
       "       [1210],\n",
       "       [1290],\n",
       "       [1100],\n",
       "       [1280],\n",
       "       [1175],\n",
       "       [1160],\n",
       "       [1205],\n",
       "       [1163],\n",
       "       [1022],\n",
       "       [1243],\n",
       "       [1350],\n",
       "       [1237],\n",
       "       [1204],\n",
       "       [1090],\n",
       "       [1355],\n",
       "       [1250],\n",
       "       [1076],\n",
       "       [1120],\n",
       "       [1220],\n",
       "       [1240],\n",
       "       [1220],\n",
       "       [1095],\n",
       "       [1235],\n",
       "       [1105],\n",
       "       [1405],\n",
       "       [1150],\n",
       "       [1305],\n",
       "       [1220],\n",
       "       [1296],\n",
       "       [1175],\n",
       "       [ 955],\n",
       "       [1070],\n",
       "       [1320],\n",
       "       [1060],\n",
       "       [1130],\n",
       "       [1250],\n",
       "       [1225],\n",
       "       [1180],\n",
       "       [1178],\n",
       "       [1142],\n",
       "       [1130],\n",
       "       [1185],\n",
       "       [1012],\n",
       "       [1280],\n",
       "       [1103],\n",
       "       [1408],\n",
       "       [1300],\n",
       "       [1246],\n",
       "       [1380],\n",
       "       [1350],\n",
       "       [1060],\n",
       "       [1350],\n",
       "       [1220],\n",
       "       [1110],\n",
       "       [1215],\n",
       "       [1104],\n",
       "       [1170],\n",
       "       [1120]], dtype=int64)"
      ]
     },
     "execution_count": 48,
     "metadata": {},
     "output_type": "execute_result"
    }
   ],
   "source": [
    "y=df_new.iloc[:,-1].values.reshape(-1,1)\n",
    "y#target variable"
   ]
  },
  {
   "cell_type": "markdown",
   "id": "f39f6728",
   "metadata": {},
   "source": [
    "# Scailing "
   ]
  },
  {
   "cell_type": "markdown",
   "id": "1c7be413",
   "metadata": {},
   "source": [
    "Model can be baised to higher values in datasets so its better to scale the dataset , so that we can bring all the column in column range .There are two algorithms availale for scailing StandardScaler and MinMaxScaler . We are going to use StandardScaler "
   ]
  },
  {
   "cell_type": "code",
   "execution_count": 52,
   "id": "48806271",
   "metadata": {},
   "outputs": [],
   "source": [
    "#Scailing dataset using StandardScaler\n",
    "import sklearn\n",
    "from sklearn.preprocessing import StandardScaler \n",
    "sc=StandardScaler()\n",
    "scaledX=sc.fit_transform(x)\n"
   ]
  },
  {
   "cell_type": "code",
   "execution_count": 64,
   "id": "4663a5e1",
   "metadata": {},
   "outputs": [
    {
     "name": "stdout",
     "output_type": "stream",
     "text": [
      "Best accuracy 76.63408645241039 on the random_state 128\n"
     ]
    }
   ],
   "source": [
    "#finding best random state \n",
    "from sklearn.model_selection import train_test_split\n",
    "from sklearn.model_selection import cross_val_score\n",
    "from sklearn.metrics import r2_score,mean_absolute_error,mean_absolute_error\n",
    "from sklearn.linear_model import LinearRegression\n",
    "\n",
    "\n",
    "best_rstate=0\n",
    "accu=0\n",
    "for i in range(30,200):\n",
    "    train_x,test_x,train_y,test_y=train_test_split(scaledX,y,test_size=.25,random_state=i)\n",
    "    mod=LinearRegression()\n",
    "    mod.fit(train_x,train_y)\n",
    "    pred_y=mod.predict(test_x)\n",
    "    tempaccu=r2_score(test_y,pred_y)\n",
    "    if tempaccu>accu:\n",
    "        accu=tempaccu\n",
    "        best_rstate=i\n",
    "\n",
    "print(f\"Best accuracy {accu*100} on the random_state {best_rstate}\")"
   ]
  },
  {
   "cell_type": "markdown",
   "id": "da269c0b",
   "metadata": {},
   "source": [
    "We found the best random state 128 and we will be using it for train_test_split in the next step"
   ]
  },
  {
   "cell_type": "code",
   "execution_count": 66,
   "id": "50070fe0",
   "metadata": {},
   "outputs": [],
   "source": [
    "#creatring train_test_split from the best random_state\n",
    "from sklearn.model_selection import train_test_split\n",
    "train_x,test_x,train_y,test_y=train_test_split(scaledX,y,test_size=.25,random_state=128)\n"
   ]
  },
  {
   "cell_type": "markdown",
   "id": "ea14955c",
   "metadata": {},
   "source": [
    "LinearRegression"
   ]
  },
  {
   "cell_type": "code",
   "execution_count": 101,
   "id": "b8e34fa7",
   "metadata": {},
   "outputs": [
    {
     "name": "stdout",
     "output_type": "stream",
     "text": [
      "Accuracy=76.63408645241039 , cross_val_score=53.552027171772956 & difference=23.08205928063743\n"
     ]
    }
   ],
   "source": [
    "from sklearn.linear_model import LinearRegression\n",
    "LR=LinearRegression()\n",
    "LR.fit(train_x,train_y)\n",
    "y_pred=LR.predict(test_x)\n",
    "r2score=r2_score(test_y,y_pred)\n",
    "cvscore=cross_val_score(LinearRegression(),train_x,train_y,cv=5).mean()\n",
    "print(f\"Accuracy={r2score*100} , cross_val_score={cvscore*100} & difference={(r2score*100)-(cvscore*100)}\")"
   ]
  },
  {
   "cell_type": "markdown",
   "id": "d366b761",
   "metadata": {},
   "source": [
    "RandomForestRegressor"
   ]
  },
  {
   "cell_type": "code",
   "execution_count": 102,
   "id": "a5eea21f",
   "metadata": {},
   "outputs": [
    {
     "name": "stdout",
     "output_type": "stream",
     "text": [
      "Accuracy=61.04190912744141 ,cross_val_score=36.40427650219748 & difference=24.637632625243924\n"
     ]
    }
   ],
   "source": [
    "from sklearn.ensemble import RandomForestRegressor\n",
    "RF=RandomForestRegressor()\n",
    "RF.fit(train_x,train_y)\n",
    "pred_y=RF.predict(test_x)\n",
    "r2score=r2_score(test_y,pred_y)\n",
    "cvscore=cross_val_score(RandomForestRegressor(),train_x,train_y,cv=5).mean()\n",
    "print(f\"Accuracy={r2score*100} ,cross_val_score={cvscore*100} & difference={(r2score*100)-(cvscore*100)}\")\n"
   ]
  },
  {
   "cell_type": "markdown",
   "id": "908b50af",
   "metadata": {},
   "source": [
    "AdaBoostRegressor"
   ]
  },
  {
   "cell_type": "code",
   "execution_count": 104,
   "id": "4ae04218",
   "metadata": {},
   "outputs": [
    {
     "name": "stdout",
     "output_type": "stream",
     "text": [
      "Accuracy=75.63981766103855 ,cross_val_score=44.47026752048286 & difference=31.169550140555693\n"
     ]
    }
   ],
   "source": [
    "from sklearn.ensemble import AdaBoostRegressor\n",
    "ada=AdaBoostRegressor()\n",
    "ada.fit(train_x,train_y)\n",
    "y_pred=ada.predict(test_x)\n",
    "r2score=r2_score(test_y,y_pred)\n",
    "cvscore=cross_val_score(AdaBoostRegressor(),train_x,train_y,cv=5).mean()\n",
    "print(f\"Accuracy={r2score*100} ,cross_val_score={cvscore*100} & difference={(r2score*100)-(cvscore*100)}\")"
   ]
  },
  {
   "cell_type": "markdown",
   "id": "2506ce41",
   "metadata": {},
   "source": [
    "SGD Regressor"
   ]
  },
  {
   "cell_type": "code",
   "execution_count": 105,
   "id": "46b92e31",
   "metadata": {},
   "outputs": [
    {
     "name": "stdout",
     "output_type": "stream",
     "text": [
      "Accuracy=76.63569986502479 ,cross_val_score=53.574141217095416 & difference=23.061558647929374\n"
     ]
    }
   ],
   "source": [
    "from sklearn.linear_model import SGDRegressor\n",
    "sgd=SGDRegressor()\n",
    "sgd.fit(train_x,train_y)\n",
    "y_pred=sgd.predict(test_x)\n",
    "r2score=r2_score(test_y,y_pred)\n",
    "cvscore=cross_val_score(SGDRegressor(),train_x,train_y,cv=5).mean()\n",
    "print(f\"Accuracy={r2score*100} ,cross_val_score={cvscore*100} & difference={(r2score*100)-(cvscore*100)}\")"
   ]
  },
  {
   "cell_type": "markdown",
   "id": "2cbf0025",
   "metadata": {},
   "source": [
    "Linear Rergression and SGDRegressor are the best performing models of almost same accuracy and cross validation score .We can choose either of them our best model so i am moving ahead with SGDRegressor"
   ]
  },
  {
   "cell_type": "markdown",
   "id": "e3f4a1cf",
   "metadata": {},
   "source": [
    "# Hyperparameter Tuning"
   ]
  },
  {
   "cell_type": "markdown",
   "id": "66c2eea0",
   "metadata": {},
   "source": [
    "It is a technique to find out the best parameter for our model to improve the accuracy"
   ]
  },
  {
   "cell_type": "code",
   "execution_count": 108,
   "id": "747b93c3",
   "metadata": {},
   "outputs": [],
   "source": [
    "#creating parameter list to pass in GridSearchCV\n",
    "parameters={\"max_iter\":[500,700,900,1100,1200,1300,1400,1500],\n",
    "          \"alpha\":[0.0001,0.001,0.01,0.1,1,10,100],\n",
    "           \"penalty\":[\"elasticnet\",\"l1\",\"l2\"]}"
   ]
  },
  {
   "cell_type": "code",
   "execution_count": 109,
   "id": "ec6bced8",
   "metadata": {},
   "outputs": [
    {
     "name": "stdout",
     "output_type": "stream",
     "text": [
      "Final Accuracy 76.5423065422639\n"
     ]
    }
   ],
   "source": [
    "from sklearn.model_selection import GridSearchCV\n",
    "GCV=GridSearchCV(SGDRegressor(),parameters,cv=5,scoring=\"r2\") #initializing GridSearchCV\n",
    "GCV.fit(train_x,train_y)\n",
    "GCV.best_estimator_ #finding best estimators\n",
    "GCVpred=GCV.best_estimator_.predict(test_x)\n",
    "print(\"Final Accuracy\",r2_score(test_y,GCVpred)*100)  #final accuracy\n"
   ]
  },
  {
   "cell_type": "markdown",
   "id": "a7dd485f",
   "metadata": {},
   "source": [
    "Model accuracy is not increasing after 76.52% it is because of less data . we need to collect the more data to improve the accuracy  further"
   ]
  },
  {
   "cell_type": "markdown",
   "id": "e34f0d17",
   "metadata": {},
   "source": [
    "# Serialization"
   ]
  },
  {
   "cell_type": "code",
   "execution_count": 111,
   "id": "848a29ea",
   "metadata": {},
   "outputs": [
    {
     "data": {
      "text/plain": [
       "['HeadBrainProject.pkl']"
      ]
     },
     "execution_count": 111,
     "metadata": {},
     "output_type": "execute_result"
    }
   ],
   "source": [
    "import joblib\n",
    "joblib.dump(GCV.best_estimator_,\"HeadBrainProject.pkl\")"
   ]
  },
  {
   "cell_type": "code",
   "execution_count": null,
   "id": "00bbe274",
   "metadata": {},
   "outputs": [],
   "source": []
  }
 ],
 "metadata": {
  "kernelspec": {
   "display_name": "Python 3 (ipykernel)",
   "language": "python",
   "name": "python3"
  },
  "language_info": {
   "codemirror_mode": {
    "name": "ipython",
    "version": 3
   },
   "file_extension": ".py",
   "mimetype": "text/x-python",
   "name": "python",
   "nbconvert_exporter": "python",
   "pygments_lexer": "ipython3",
   "version": "3.9.7"
  }
 },
 "nbformat": 4,
 "nbformat_minor": 5
}
